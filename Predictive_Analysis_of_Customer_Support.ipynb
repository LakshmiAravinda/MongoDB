{
  "nbformat": 4,
  "nbformat_minor": 0,
  "metadata": {
    "colab": {
      "name": "Predictive Analysis of Customer Support",
      "provenance": [],
      "authorship_tag": "ABX9TyPTiAYDs6NPp4ibOH7DDBRa",
      "include_colab_link": true
    },
    "kernelspec": {
      "name": "python3",
      "display_name": "Python 3"
    },
    "language_info": {
      "name": "python"
    }
  },
  "cells": [
    {
      "cell_type": "markdown",
      "metadata": {
        "id": "view-in-github",
        "colab_type": "text"
      },
      "source": [
        "<a href=\"https://colab.research.google.com/github/LakshmiAravinda/MongoDB/blob/main/Predictive_Analysis_of_Customer_Support.ipynb\" target=\"_parent\"><img src=\"https://colab.research.google.com/assets/colab-badge.svg\" alt=\"Open In Colab\"/></a>"
      ]
    },
    {
      "cell_type": "code",
      "execution_count": 2,
      "metadata": {
        "id": "g3MRGhrmsJBP"
      },
      "outputs": [],
      "source": [
        "import numpy as np\n",
        "import pandas as pd\n",
        "import matplotlib.pyplot as plt\n",
        "import seaborn as sns\n",
        "import plotly.express as px\n",
        "%matplotlib inline"
      ]
    },
    {
      "cell_type": "code",
      "source": [
        "data = pd.read_csv(\"/content/Predective Analysis of Customer Support.xlsx - ORC2.0 Report.csv\")"
      ],
      "metadata": {
        "id": "R2J49hdtsSQ8"
      },
      "execution_count": 3,
      "outputs": []
    },
    {
      "cell_type": "code",
      "execution_count": 5,
      "metadata": {
        "colab": {
          "base_uri": "https://localhost:8080/"
        },
        "id": "lYiVgm1zuCRF",
        "outputId": "c8bc994c-8d8d-493f-edd9-aa8a69c7dbf4"
      },
      "outputs": [
        {
          "output_type": "execute_result",
          "data": {
            "text/plain": [
              "(149, 25)"
            ]
          },
          "metadata": {},
          "execution_count": 5
        }
      ],
      "source": [
        "data.shape"
      ]
    },
    {
      "cell_type": "code",
      "execution_count": 4,
      "metadata": {
        "colab": {
          "base_uri": "https://localhost:8080/"
        },
        "id": "kPtrnm7cuLNv",
        "outputId": "9a3067d9-cf0a-4aa2-f5a9-e98e892c7e5b"
      },
      "outputs": [
        {
          "output_type": "execute_result",
          "data": {
            "text/plain": [
              "Index(['Project Type', 'Severity of Problem', 'Warrantable/Non Warrantable',\n",
              "       'Type of ORC', 'Failure Date', 'Problem Definition (Step-1)',\n",
              "       'Observations (Step-2)', 'System', 'Sub System',\n",
              "       'Under Analysis (Step-3)', 'Solution Identification & Release (Step-4)',\n",
              "       'Solution Validation & ORC Closure (Step-5)',\n",
              "       'Solution Implementation (Step-6)', 'Conclusion and Tracking (Step 7)',\n",
              "       'ORC Current Status', 'Date of ORC Creation', 'Date to reach at Step 2',\n",
              "       'Date to reach at Step 3', 'Date to reach at Step 4',\n",
              "       'Date to reach at Step 5', 'Date to reach at Step 6',\n",
              "       'Date to reach at Step 7', 'Time to Solution Release (days)',\n",
              "       'Time to Close the ORC (days)', 'Remarks'],\n",
              "      dtype='object')"
            ]
          },
          "metadata": {},
          "execution_count": 4
        }
      ],
      "source": [
        "data.columns"
      ]
    },
    {
      "cell_type": "code",
      "execution_count": 6,
      "metadata": {
        "colab": {
          "base_uri": "https://localhost:8080/",
          "height": 835
        },
        "id": "incJXmClspCv",
        "outputId": "b1e0788c-1d55-4525-d19a-48b0e5e69cfa"
      },
      "outputs": [
        {
          "output_type": "execute_result",
          "data": {
            "text/plain": [
              "  Project Type  Severity of Problem Warrantable/Non Warrantable Type of ORC  \\\n",
              "0      Regular                    4             Non Warrantable       Track   \n",
              "1      Regular                    5             Non Warrantable       Build   \n",
              "2      Regular                    5                 Warrantable       Track   \n",
              "3      Regular                    6                         NaN       Track   \n",
              "4      Regular                    6                         NaN       Field   \n",
              "\n",
              "             Failure Date                        Problem Definition (Step-1)  \\\n",
              "0       27-Dec-2020 17:49                    feed pump  is fouling with Hood   \n",
              "1  16-04-2021 12:00:00 AM  IN YUV NXT EXPORT TRACTOR BUILD, AUX VALVE HOS...   \n",
              "2       27-Dec-2020 18:30  Oil leakage observed from brake drum drain plu...   \n",
              "3       23-Jan-2021 13:17  Battery tray base plate found in bend conditio...   \n",
              "4  05-10-2020 12:00:00 AM  Y-NXT 28 HP 4WD TRACTOR OBSERVED MORE VIBRATIO...   \n",
              "\n",
              "                               Observations (Step-2)          System  \\\n",
              "0                    feed pump  is fouling with Hood          Engine   \n",
              "1                                                NaN       Hydraulic   \n",
              "2  Oil leakage Observed From Brake Drum Drain Plu...    Transmission   \n",
              "3  Battery tray base plate found in bend conditio...  Frontal-System   \n",
              "4  ORC's seprated for Steering and fender aggrega...  Tractor-System   \n",
              "\n",
              "                  Sub System  \\\n",
              "0                        NaN   \n",
              "1     HYDRAULIC LINES-FD0310   \n",
              "2  OIL IMMERSED BRAKE-FD0210   \n",
              "3                        NaN   \n",
              "4          STEERING-FD060207   \n",
              "\n",
              "                             Under Analysis (Step-3)  ...  \\\n",
              "0  The Feed Pump position is not changed with res...  ...   \n",
              "1    IN DRAWING HOSE LENGTH WAS NOT AS PER 3D MODEL.  ...   \n",
              "2  There is no change in brake drum,brake assly,d...  ...   \n",
              "3                                                NaN  ...   \n",
              "4  Direction given by Gupta Sir to adopt Universa...  ...   \n",
              "\n",
              "  Date of ORC Creation Date to reach at Step 2  Date to reach at Step 3  \\\n",
              "0    30-Dec-2020 17:49       30-Dec-2020 17:50        31-Dec-2020 13:11   \n",
              "1    17-May-2021 23:42       18-May-2021 02:10        19-May-2021 13:00   \n",
              "2    28-Dec-2020 18:31       28-Dec-2020 18:31        31-Dec-2020 13:18   \n",
              "3    16-Feb-2021 13:19       16-Feb-2021 13:19        17-Feb-2021 19:00   \n",
              "4    07-Oct-2020 20:03       08-Oct-2020 01:42        08-Oct-2020 22:58   \n",
              "\n",
              "   Date to reach at Step 4 Date to reach at Step 5 Date to reach at Step 6  \\\n",
              "0        13-Jan-2021 16:23       19-Jan-2021 21:06                     NaN   \n",
              "1        28-May-2021 09:43       31-May-2021 11:48       17-Jun-2021 09:02   \n",
              "2        13-Jan-2021 12:56       18-Jan-2021 10:45                     NaN   \n",
              "3                      NaN                     NaN                     NaN   \n",
              "4                      NaN                     NaN                     NaN   \n",
              "\n",
              "  Date to reach at Step 7 Time to Solution Release (days)  \\\n",
              "0       04-Feb-2021 14:48                            20.0   \n",
              "1                     NaN                            14.0   \n",
              "2       23-Jan-2021 02:29                            21.0   \n",
              "3                     NaN                             NaN   \n",
              "4                     NaN                             NaN   \n",
              "\n",
              "  Time to Close the ORC (days)  \\\n",
              "0                         36.0   \n",
              "1                          NaN   \n",
              "2                         26.0   \n",
              "3                          NaN   \n",
              "4                          NaN   \n",
              "\n",
              "                                             Remarks  \n",
              "0           Based on COE remarks Orc has been Closed  \n",
              "1  As per COE comment hose length corrected in dr...  \n",
              "2  Based on COE Remarks Orc has been closed - Car...  \n",
              "3      Based on COE remarks , Orc has been Obsoleted  \n",
              "4  ORC's seprated for Steering and fender aggrega...  \n",
              "\n",
              "[5 rows x 25 columns]"
            ],
            "text/html": [
              "\n",
              "  <div id=\"df-ff14455f-bdc0-45ff-9f0b-27fd6de6591d\">\n",
              "    <div class=\"colab-df-container\">\n",
              "      <div>\n",
              "<style scoped>\n",
              "    .dataframe tbody tr th:only-of-type {\n",
              "        vertical-align: middle;\n",
              "    }\n",
              "\n",
              "    .dataframe tbody tr th {\n",
              "        vertical-align: top;\n",
              "    }\n",
              "\n",
              "    .dataframe thead th {\n",
              "        text-align: right;\n",
              "    }\n",
              "</style>\n",
              "<table border=\"1\" class=\"dataframe\">\n",
              "  <thead>\n",
              "    <tr style=\"text-align: right;\">\n",
              "      <th></th>\n",
              "      <th>Project Type</th>\n",
              "      <th>Severity of Problem</th>\n",
              "      <th>Warrantable/Non Warrantable</th>\n",
              "      <th>Type of ORC</th>\n",
              "      <th>Failure Date</th>\n",
              "      <th>Problem Definition (Step-1)</th>\n",
              "      <th>Observations (Step-2)</th>\n",
              "      <th>System</th>\n",
              "      <th>Sub System</th>\n",
              "      <th>Under Analysis (Step-3)</th>\n",
              "      <th>...</th>\n",
              "      <th>Date of ORC Creation</th>\n",
              "      <th>Date to reach at Step 2</th>\n",
              "      <th>Date to reach at Step 3</th>\n",
              "      <th>Date to reach at Step 4</th>\n",
              "      <th>Date to reach at Step 5</th>\n",
              "      <th>Date to reach at Step 6</th>\n",
              "      <th>Date to reach at Step 7</th>\n",
              "      <th>Time to Solution Release (days)</th>\n",
              "      <th>Time to Close the ORC (days)</th>\n",
              "      <th>Remarks</th>\n",
              "    </tr>\n",
              "  </thead>\n",
              "  <tbody>\n",
              "    <tr>\n",
              "      <th>0</th>\n",
              "      <td>Regular</td>\n",
              "      <td>4</td>\n",
              "      <td>Non Warrantable</td>\n",
              "      <td>Track</td>\n",
              "      <td>27-Dec-2020 17:49</td>\n",
              "      <td>feed pump  is fouling with Hood</td>\n",
              "      <td>feed pump  is fouling with Hood</td>\n",
              "      <td>Engine</td>\n",
              "      <td>NaN</td>\n",
              "      <td>The Feed Pump position is not changed with res...</td>\n",
              "      <td>...</td>\n",
              "      <td>30-Dec-2020 17:49</td>\n",
              "      <td>30-Dec-2020 17:50</td>\n",
              "      <td>31-Dec-2020 13:11</td>\n",
              "      <td>13-Jan-2021 16:23</td>\n",
              "      <td>19-Jan-2021 21:06</td>\n",
              "      <td>NaN</td>\n",
              "      <td>04-Feb-2021 14:48</td>\n",
              "      <td>20.0</td>\n",
              "      <td>36.0</td>\n",
              "      <td>Based on COE remarks Orc has been Closed</td>\n",
              "    </tr>\n",
              "    <tr>\n",
              "      <th>1</th>\n",
              "      <td>Regular</td>\n",
              "      <td>5</td>\n",
              "      <td>Non Warrantable</td>\n",
              "      <td>Build</td>\n",
              "      <td>16-04-2021 12:00:00 AM</td>\n",
              "      <td>IN YUV NXT EXPORT TRACTOR BUILD, AUX VALVE HOS...</td>\n",
              "      <td>NaN</td>\n",
              "      <td>Hydraulic</td>\n",
              "      <td>HYDRAULIC LINES-FD0310</td>\n",
              "      <td>IN DRAWING HOSE LENGTH WAS NOT AS PER 3D MODEL.</td>\n",
              "      <td>...</td>\n",
              "      <td>17-May-2021 23:42</td>\n",
              "      <td>18-May-2021 02:10</td>\n",
              "      <td>19-May-2021 13:00</td>\n",
              "      <td>28-May-2021 09:43</td>\n",
              "      <td>31-May-2021 11:48</td>\n",
              "      <td>17-Jun-2021 09:02</td>\n",
              "      <td>NaN</td>\n",
              "      <td>14.0</td>\n",
              "      <td>NaN</td>\n",
              "      <td>As per COE comment hose length corrected in dr...</td>\n",
              "    </tr>\n",
              "    <tr>\n",
              "      <th>2</th>\n",
              "      <td>Regular</td>\n",
              "      <td>5</td>\n",
              "      <td>Warrantable</td>\n",
              "      <td>Track</td>\n",
              "      <td>27-Dec-2020 18:30</td>\n",
              "      <td>Oil leakage observed from brake drum drain plu...</td>\n",
              "      <td>Oil leakage Observed From Brake Drum Drain Plu...</td>\n",
              "      <td>Transmission</td>\n",
              "      <td>OIL IMMERSED BRAKE-FD0210</td>\n",
              "      <td>There is no change in brake drum,brake assly,d...</td>\n",
              "      <td>...</td>\n",
              "      <td>28-Dec-2020 18:31</td>\n",
              "      <td>28-Dec-2020 18:31</td>\n",
              "      <td>31-Dec-2020 13:18</td>\n",
              "      <td>13-Jan-2021 12:56</td>\n",
              "      <td>18-Jan-2021 10:45</td>\n",
              "      <td>NaN</td>\n",
              "      <td>23-Jan-2021 02:29</td>\n",
              "      <td>21.0</td>\n",
              "      <td>26.0</td>\n",
              "      <td>Based on COE Remarks Orc has been closed - Car...</td>\n",
              "    </tr>\n",
              "    <tr>\n",
              "      <th>3</th>\n",
              "      <td>Regular</td>\n",
              "      <td>6</td>\n",
              "      <td>NaN</td>\n",
              "      <td>Track</td>\n",
              "      <td>23-Jan-2021 13:17</td>\n",
              "      <td>Battery tray base plate found in bend conditio...</td>\n",
              "      <td>Battery tray base plate found in bend conditio...</td>\n",
              "      <td>Frontal-System</td>\n",
              "      <td>NaN</td>\n",
              "      <td>NaN</td>\n",
              "      <td>...</td>\n",
              "      <td>16-Feb-2021 13:19</td>\n",
              "      <td>16-Feb-2021 13:19</td>\n",
              "      <td>17-Feb-2021 19:00</td>\n",
              "      <td>NaN</td>\n",
              "      <td>NaN</td>\n",
              "      <td>NaN</td>\n",
              "      <td>NaN</td>\n",
              "      <td>NaN</td>\n",
              "      <td>NaN</td>\n",
              "      <td>Based on COE remarks , Orc has been Obsoleted</td>\n",
              "    </tr>\n",
              "    <tr>\n",
              "      <th>4</th>\n",
              "      <td>Regular</td>\n",
              "      <td>6</td>\n",
              "      <td>NaN</td>\n",
              "      <td>Field</td>\n",
              "      <td>05-10-2020 12:00:00 AM</td>\n",
              "      <td>Y-NXT 28 HP 4WD TRACTOR OBSERVED MORE VIBRATIO...</td>\n",
              "      <td>ORC's seprated for Steering and fender aggrega...</td>\n",
              "      <td>Tractor-System</td>\n",
              "      <td>STEERING-FD060207</td>\n",
              "      <td>Direction given by Gupta Sir to adopt Universa...</td>\n",
              "      <td>...</td>\n",
              "      <td>07-Oct-2020 20:03</td>\n",
              "      <td>08-Oct-2020 01:42</td>\n",
              "      <td>08-Oct-2020 22:58</td>\n",
              "      <td>NaN</td>\n",
              "      <td>NaN</td>\n",
              "      <td>NaN</td>\n",
              "      <td>NaN</td>\n",
              "      <td>NaN</td>\n",
              "      <td>NaN</td>\n",
              "      <td>ORC's seprated for Steering and fender aggrega...</td>\n",
              "    </tr>\n",
              "  </tbody>\n",
              "</table>\n",
              "<p>5 rows × 25 columns</p>\n",
              "</div>\n",
              "      <button class=\"colab-df-convert\" onclick=\"convertToInteractive('df-ff14455f-bdc0-45ff-9f0b-27fd6de6591d')\"\n",
              "              title=\"Convert this dataframe to an interactive table.\"\n",
              "              style=\"display:none;\">\n",
              "        \n",
              "  <svg xmlns=\"http://www.w3.org/2000/svg\" height=\"24px\"viewBox=\"0 0 24 24\"\n",
              "       width=\"24px\">\n",
              "    <path d=\"M0 0h24v24H0V0z\" fill=\"none\"/>\n",
              "    <path d=\"M18.56 5.44l.94 2.06.94-2.06 2.06-.94-2.06-.94-.94-2.06-.94 2.06-2.06.94zm-11 1L8.5 8.5l.94-2.06 2.06-.94-2.06-.94L8.5 2.5l-.94 2.06-2.06.94zm10 10l.94 2.06.94-2.06 2.06-.94-2.06-.94-.94-2.06-.94 2.06-2.06.94z\"/><path d=\"M17.41 7.96l-1.37-1.37c-.4-.4-.92-.59-1.43-.59-.52 0-1.04.2-1.43.59L10.3 9.45l-7.72 7.72c-.78.78-.78 2.05 0 2.83L4 21.41c.39.39.9.59 1.41.59.51 0 1.02-.2 1.41-.59l7.78-7.78 2.81-2.81c.8-.78.8-2.07 0-2.86zM5.41 20L4 18.59l7.72-7.72 1.47 1.35L5.41 20z\"/>\n",
              "  </svg>\n",
              "      </button>\n",
              "      \n",
              "  <style>\n",
              "    .colab-df-container {\n",
              "      display:flex;\n",
              "      flex-wrap:wrap;\n",
              "      gap: 12px;\n",
              "    }\n",
              "\n",
              "    .colab-df-convert {\n",
              "      background-color: #E8F0FE;\n",
              "      border: none;\n",
              "      border-radius: 50%;\n",
              "      cursor: pointer;\n",
              "      display: none;\n",
              "      fill: #1967D2;\n",
              "      height: 32px;\n",
              "      padding: 0 0 0 0;\n",
              "      width: 32px;\n",
              "    }\n",
              "\n",
              "    .colab-df-convert:hover {\n",
              "      background-color: #E2EBFA;\n",
              "      box-shadow: 0px 1px 2px rgba(60, 64, 67, 0.3), 0px 1px 3px 1px rgba(60, 64, 67, 0.15);\n",
              "      fill: #174EA6;\n",
              "    }\n",
              "\n",
              "    [theme=dark] .colab-df-convert {\n",
              "      background-color: #3B4455;\n",
              "      fill: #D2E3FC;\n",
              "    }\n",
              "\n",
              "    [theme=dark] .colab-df-convert:hover {\n",
              "      background-color: #434B5C;\n",
              "      box-shadow: 0px 1px 3px 1px rgba(0, 0, 0, 0.15);\n",
              "      filter: drop-shadow(0px 1px 2px rgba(0, 0, 0, 0.3));\n",
              "      fill: #FFFFFF;\n",
              "    }\n",
              "  </style>\n",
              "\n",
              "      <script>\n",
              "        const buttonEl =\n",
              "          document.querySelector('#df-ff14455f-bdc0-45ff-9f0b-27fd6de6591d button.colab-df-convert');\n",
              "        buttonEl.style.display =\n",
              "          google.colab.kernel.accessAllowed ? 'block' : 'none';\n",
              "\n",
              "        async function convertToInteractive(key) {\n",
              "          const element = document.querySelector('#df-ff14455f-bdc0-45ff-9f0b-27fd6de6591d');\n",
              "          const dataTable =\n",
              "            await google.colab.kernel.invokeFunction('convertToInteractive',\n",
              "                                                     [key], {});\n",
              "          if (!dataTable) return;\n",
              "\n",
              "          const docLinkHtml = 'Like what you see? Visit the ' +\n",
              "            '<a target=\"_blank\" href=https://colab.research.google.com/notebooks/data_table.ipynb>data table notebook</a>'\n",
              "            + ' to learn more about interactive tables.';\n",
              "          element.innerHTML = '';\n",
              "          dataTable['output_type'] = 'display_data';\n",
              "          await google.colab.output.renderOutput(dataTable, element);\n",
              "          const docLink = document.createElement('div');\n",
              "          docLink.innerHTML = docLinkHtml;\n",
              "          element.appendChild(docLink);\n",
              "        }\n",
              "      </script>\n",
              "    </div>\n",
              "  </div>\n",
              "  "
            ]
          },
          "metadata": {},
          "execution_count": 6
        }
      ],
      "source": [
        "data.head()"
      ]
    },
    {
      "cell_type": "code",
      "execution_count": 7,
      "metadata": {
        "colab": {
          "base_uri": "https://localhost:8080/",
          "height": 300
        },
        "id": "lH9wlH23spFU",
        "outputId": "150e9bea-3211-40b8-9854-70974447be80"
      },
      "outputs": [
        {
          "output_type": "execute_result",
          "data": {
            "text/plain": [
              "       Severity of Problem  Solution Implementation (Step-6)  \\\n",
              "count           149.000000                               0.0   \n",
              "mean              5.389262                               NaN   \n",
              "std               1.239613                               NaN   \n",
              "min               3.000000                               NaN   \n",
              "25%               5.000000                               NaN   \n",
              "50%               5.000000                               NaN   \n",
              "75%               6.000000                               NaN   \n",
              "max               9.000000                               NaN   \n",
              "\n",
              "       Conclusion and Tracking (Step 7)  Time to Solution Release (days)  \\\n",
              "count                               0.0                       127.000000   \n",
              "mean                                NaN                        26.118110   \n",
              "std                                 NaN                        18.628198   \n",
              "min                                 NaN                         3.000000   \n",
              "25%                                 NaN                        14.000000   \n",
              "50%                                 NaN                        20.000000   \n",
              "75%                                 NaN                        39.000000   \n",
              "max                                 NaN                        97.000000   \n",
              "\n",
              "       Time to Close the ORC (days)  \n",
              "count                    106.000000  \n",
              "mean                      42.283019  \n",
              "std                       28.526597  \n",
              "min                       10.000000  \n",
              "25%                       23.000000  \n",
              "50%                       34.000000  \n",
              "75%                       58.750000  \n",
              "max                      171.000000  "
            ],
            "text/html": [
              "\n",
              "  <div id=\"df-3c9c560d-0b6d-4850-a4af-1f2acc46aad4\">\n",
              "    <div class=\"colab-df-container\">\n",
              "      <div>\n",
              "<style scoped>\n",
              "    .dataframe tbody tr th:only-of-type {\n",
              "        vertical-align: middle;\n",
              "    }\n",
              "\n",
              "    .dataframe tbody tr th {\n",
              "        vertical-align: top;\n",
              "    }\n",
              "\n",
              "    .dataframe thead th {\n",
              "        text-align: right;\n",
              "    }\n",
              "</style>\n",
              "<table border=\"1\" class=\"dataframe\">\n",
              "  <thead>\n",
              "    <tr style=\"text-align: right;\">\n",
              "      <th></th>\n",
              "      <th>Severity of Problem</th>\n",
              "      <th>Solution Implementation (Step-6)</th>\n",
              "      <th>Conclusion and Tracking (Step 7)</th>\n",
              "      <th>Time to Solution Release (days)</th>\n",
              "      <th>Time to Close the ORC (days)</th>\n",
              "    </tr>\n",
              "  </thead>\n",
              "  <tbody>\n",
              "    <tr>\n",
              "      <th>count</th>\n",
              "      <td>149.000000</td>\n",
              "      <td>0.0</td>\n",
              "      <td>0.0</td>\n",
              "      <td>127.000000</td>\n",
              "      <td>106.000000</td>\n",
              "    </tr>\n",
              "    <tr>\n",
              "      <th>mean</th>\n",
              "      <td>5.389262</td>\n",
              "      <td>NaN</td>\n",
              "      <td>NaN</td>\n",
              "      <td>26.118110</td>\n",
              "      <td>42.283019</td>\n",
              "    </tr>\n",
              "    <tr>\n",
              "      <th>std</th>\n",
              "      <td>1.239613</td>\n",
              "      <td>NaN</td>\n",
              "      <td>NaN</td>\n",
              "      <td>18.628198</td>\n",
              "      <td>28.526597</td>\n",
              "    </tr>\n",
              "    <tr>\n",
              "      <th>min</th>\n",
              "      <td>3.000000</td>\n",
              "      <td>NaN</td>\n",
              "      <td>NaN</td>\n",
              "      <td>3.000000</td>\n",
              "      <td>10.000000</td>\n",
              "    </tr>\n",
              "    <tr>\n",
              "      <th>25%</th>\n",
              "      <td>5.000000</td>\n",
              "      <td>NaN</td>\n",
              "      <td>NaN</td>\n",
              "      <td>14.000000</td>\n",
              "      <td>23.000000</td>\n",
              "    </tr>\n",
              "    <tr>\n",
              "      <th>50%</th>\n",
              "      <td>5.000000</td>\n",
              "      <td>NaN</td>\n",
              "      <td>NaN</td>\n",
              "      <td>20.000000</td>\n",
              "      <td>34.000000</td>\n",
              "    </tr>\n",
              "    <tr>\n",
              "      <th>75%</th>\n",
              "      <td>6.000000</td>\n",
              "      <td>NaN</td>\n",
              "      <td>NaN</td>\n",
              "      <td>39.000000</td>\n",
              "      <td>58.750000</td>\n",
              "    </tr>\n",
              "    <tr>\n",
              "      <th>max</th>\n",
              "      <td>9.000000</td>\n",
              "      <td>NaN</td>\n",
              "      <td>NaN</td>\n",
              "      <td>97.000000</td>\n",
              "      <td>171.000000</td>\n",
              "    </tr>\n",
              "  </tbody>\n",
              "</table>\n",
              "</div>\n",
              "      <button class=\"colab-df-convert\" onclick=\"convertToInteractive('df-3c9c560d-0b6d-4850-a4af-1f2acc46aad4')\"\n",
              "              title=\"Convert this dataframe to an interactive table.\"\n",
              "              style=\"display:none;\">\n",
              "        \n",
              "  <svg xmlns=\"http://www.w3.org/2000/svg\" height=\"24px\"viewBox=\"0 0 24 24\"\n",
              "       width=\"24px\">\n",
              "    <path d=\"M0 0h24v24H0V0z\" fill=\"none\"/>\n",
              "    <path d=\"M18.56 5.44l.94 2.06.94-2.06 2.06-.94-2.06-.94-.94-2.06-.94 2.06-2.06.94zm-11 1L8.5 8.5l.94-2.06 2.06-.94-2.06-.94L8.5 2.5l-.94 2.06-2.06.94zm10 10l.94 2.06.94-2.06 2.06-.94-2.06-.94-.94-2.06-.94 2.06-2.06.94z\"/><path d=\"M17.41 7.96l-1.37-1.37c-.4-.4-.92-.59-1.43-.59-.52 0-1.04.2-1.43.59L10.3 9.45l-7.72 7.72c-.78.78-.78 2.05 0 2.83L4 21.41c.39.39.9.59 1.41.59.51 0 1.02-.2 1.41-.59l7.78-7.78 2.81-2.81c.8-.78.8-2.07 0-2.86zM5.41 20L4 18.59l7.72-7.72 1.47 1.35L5.41 20z\"/>\n",
              "  </svg>\n",
              "      </button>\n",
              "      \n",
              "  <style>\n",
              "    .colab-df-container {\n",
              "      display:flex;\n",
              "      flex-wrap:wrap;\n",
              "      gap: 12px;\n",
              "    }\n",
              "\n",
              "    .colab-df-convert {\n",
              "      background-color: #E8F0FE;\n",
              "      border: none;\n",
              "      border-radius: 50%;\n",
              "      cursor: pointer;\n",
              "      display: none;\n",
              "      fill: #1967D2;\n",
              "      height: 32px;\n",
              "      padding: 0 0 0 0;\n",
              "      width: 32px;\n",
              "    }\n",
              "\n",
              "    .colab-df-convert:hover {\n",
              "      background-color: #E2EBFA;\n",
              "      box-shadow: 0px 1px 2px rgba(60, 64, 67, 0.3), 0px 1px 3px 1px rgba(60, 64, 67, 0.15);\n",
              "      fill: #174EA6;\n",
              "    }\n",
              "\n",
              "    [theme=dark] .colab-df-convert {\n",
              "      background-color: #3B4455;\n",
              "      fill: #D2E3FC;\n",
              "    }\n",
              "\n",
              "    [theme=dark] .colab-df-convert:hover {\n",
              "      background-color: #434B5C;\n",
              "      box-shadow: 0px 1px 3px 1px rgba(0, 0, 0, 0.15);\n",
              "      filter: drop-shadow(0px 1px 2px rgba(0, 0, 0, 0.3));\n",
              "      fill: #FFFFFF;\n",
              "    }\n",
              "  </style>\n",
              "\n",
              "      <script>\n",
              "        const buttonEl =\n",
              "          document.querySelector('#df-3c9c560d-0b6d-4850-a4af-1f2acc46aad4 button.colab-df-convert');\n",
              "        buttonEl.style.display =\n",
              "          google.colab.kernel.accessAllowed ? 'block' : 'none';\n",
              "\n",
              "        async function convertToInteractive(key) {\n",
              "          const element = document.querySelector('#df-3c9c560d-0b6d-4850-a4af-1f2acc46aad4');\n",
              "          const dataTable =\n",
              "            await google.colab.kernel.invokeFunction('convertToInteractive',\n",
              "                                                     [key], {});\n",
              "          if (!dataTable) return;\n",
              "\n",
              "          const docLinkHtml = 'Like what you see? Visit the ' +\n",
              "            '<a target=\"_blank\" href=https://colab.research.google.com/notebooks/data_table.ipynb>data table notebook</a>'\n",
              "            + ' to learn more about interactive tables.';\n",
              "          element.innerHTML = '';\n",
              "          dataTable['output_type'] = 'display_data';\n",
              "          await google.colab.output.renderOutput(dataTable, element);\n",
              "          const docLink = document.createElement('div');\n",
              "          docLink.innerHTML = docLinkHtml;\n",
              "          element.appendChild(docLink);\n",
              "        }\n",
              "      </script>\n",
              "    </div>\n",
              "  </div>\n",
              "  "
            ]
          },
          "metadata": {},
          "execution_count": 7
        }
      ],
      "source": [
        "data.describe()"
      ]
    },
    {
      "cell_type": "code",
      "execution_count": 8,
      "metadata": {
        "colab": {
          "base_uri": "https://localhost:8080/"
        },
        "id": "MacG1bEuypme",
        "outputId": "ee646ce1-3f1b-4968-f520-fe6310280f4e"
      },
      "outputs": [
        {
          "output_type": "execute_result",
          "data": {
            "text/plain": [
              "Project Type                                   object\n",
              "Severity of Problem                             int64\n",
              "Warrantable/Non Warrantable                    object\n",
              "Type of ORC                                    object\n",
              "Failure Date                                   object\n",
              "Problem Definition (Step-1)                    object\n",
              "Observations (Step-2)                          object\n",
              "System                                         object\n",
              "Sub System                                     object\n",
              "Under Analysis (Step-3)                        object\n",
              "Solution Identification & Release (Step-4)     object\n",
              "Solution Validation & ORC Closure (Step-5)     object\n",
              "Solution Implementation (Step-6)              float64\n",
              "Conclusion and Tracking (Step 7)              float64\n",
              "ORC Current Status                             object\n",
              "Date of ORC Creation                           object\n",
              "Date to reach at Step 2                        object\n",
              "Date to reach at Step 3                        object\n",
              "Date to reach at Step 4                        object\n",
              "Date to reach at Step 5                        object\n",
              "Date to reach at Step 6                        object\n",
              "Date to reach at Step 7                        object\n",
              "Time to Solution Release (days)               float64\n",
              "Time to Close the ORC (days)                  float64\n",
              "Remarks                                        object\n",
              "dtype: object"
            ]
          },
          "metadata": {},
          "execution_count": 8
        }
      ],
      "source": [
        "data.dtypes"
      ]
    },
    {
      "cell_type": "code",
      "execution_count": 9,
      "metadata": {
        "colab": {
          "base_uri": "https://localhost:8080/"
        },
        "id": "IRBQ05aI7jQ3",
        "outputId": "9e8195e4-6599-40e9-f573-187e1dcbc3a2"
      },
      "outputs": [
        {
          "output_type": "execute_result",
          "data": {
            "text/plain": [
              "Project Type                                    0\n",
              "Severity of Problem                             0\n",
              "Warrantable/Non Warrantable                    23\n",
              "Type of ORC                                     0\n",
              "Failure Date                                    0\n",
              "Problem Definition (Step-1)                     0\n",
              "Observations (Step-2)                          30\n",
              "System                                          5\n",
              "Sub System                                     73\n",
              "Under Analysis (Step-3)                        26\n",
              "Solution Identification & Release (Step-4)    125\n",
              "Solution Validation & ORC Closure (Step-5)      0\n",
              "Solution Implementation (Step-6)              149\n",
              "Conclusion and Tracking (Step 7)              149\n",
              "ORC Current Status                              0\n",
              "Date of ORC Creation                            0\n",
              "Date to reach at Step 2                         1\n",
              "Date to reach at Step 3                         7\n",
              "Date to reach at Step 4                        22\n",
              "Date to reach at Step 5                        22\n",
              "Date to reach at Step 6                       131\n",
              "Date to reach at Step 7                        43\n",
              "Time to Solution Release (days)                22\n",
              "Time to Close the ORC (days)                   43\n",
              "Remarks                                        26\n",
              "dtype: int64"
            ]
          },
          "metadata": {},
          "execution_count": 9
        }
      ],
      "source": [
        "data.isnull().sum()"
      ]
    },
    {
      "cell_type": "markdown",
      "source": [
        "**Project Type**"
      ],
      "metadata": {
        "id": "RoIALKffto5t"
      }
    },
    {
      "cell_type": "code",
      "source": [
        "data=data. rename(columns = {'Project Type':'Projecttype'})"
      ],
      "metadata": {
        "id": "fY9fKKNsv-Vd"
      },
      "execution_count": null,
      "outputs": []
    },
    {
      "cell_type": "code",
      "execution_count": 26,
      "metadata": {
        "colab": {
          "base_uri": "https://localhost:8080/",
          "height": 36
        },
        "id": "hTOI94uuspKO",
        "outputId": "6bc9de1b-a1c5-4ff1-f66d-cc57a7c65048"
      },
      "outputs": [
        {
          "output_type": "execute_result",
          "data": {
            "text/plain": [
              "'Regular'"
            ],
            "application/vnd.google.colaboratory.intrinsic+json": {
              "type": "string"
            }
          },
          "metadata": {},
          "execution_count": 26
        }
      ],
      "source": [
        "data.Projecttype.values[0]"
      ]
    },
    {
      "cell_type": "code",
      "execution_count": 27,
      "metadata": {
        "colab": {
          "base_uri": "https://localhost:8080/"
        },
        "id": "gc8uaby8ugKQ",
        "outputId": "0e925914-4c45-4939-d6a1-a2596bcd18d3"
      },
      "outputs": [
        {
          "output_type": "execute_result",
          "data": {
            "text/plain": [
              "array(['Regular'], dtype=object)"
            ]
          },
          "metadata": {},
          "execution_count": 27
        }
      ],
      "source": [
        "data.Projecttype.unique()"
      ]
    },
    {
      "cell_type": "code",
      "execution_count": 28,
      "metadata": {
        "colab": {
          "base_uri": "https://localhost:8080/"
        },
        "id": "E3AV5hG5u7jB",
        "outputId": "d75cd031-93bc-460d-8c30-f986ac1815cc"
      },
      "outputs": [
        {
          "output_type": "execute_result",
          "data": {
            "text/plain": [
              "0"
            ]
          },
          "metadata": {},
          "execution_count": 28
        }
      ],
      "source": [
        "data.Projecttype.isnull().sum()"
      ]
    },
    {
      "cell_type": "code",
      "execution_count": 29,
      "metadata": {
        "colab": {
          "base_uri": "https://localhost:8080/"
        },
        "id": "PTwwx72S1Zpo",
        "outputId": "4f81cba0-c4cf-455e-d019-c70239523090"
      },
      "outputs": [
        {
          "output_type": "execute_result",
          "data": {
            "text/plain": [
              "Regular    149\n",
              "Name: Projecttype, dtype: int64"
            ]
          },
          "metadata": {},
          "execution_count": 29
        }
      ],
      "source": [
        "data.Projecttype.value_counts()"
      ]
    },
    {
      "cell_type": "markdown",
      "source": [
        "**Severity of Problem**"
      ],
      "metadata": {
        "id": "JTKJNslywLaS"
      }
    },
    {
      "cell_type": "code",
      "source": [
        "data=data. rename(columns = {'Severity of Problem':'Severity_of_Problem'})"
      ],
      "metadata": {
        "id": "_JT61lzqsSb6"
      },
      "execution_count": 30,
      "outputs": []
    },
    {
      "cell_type": "code",
      "execution_count": null,
      "metadata": {
        "id": "aMlOSMu-vvoJ"
      },
      "outputs": [],
      "source": [
        "data.Severity_of_Problem.values"
      ]
    },
    {
      "cell_type": "code",
      "execution_count": 33,
      "metadata": {
        "colab": {
          "base_uri": "https://localhost:8080/"
        },
        "id": "GaKPcTItvvwf",
        "outputId": "7f9ab2ce-3e81-4e6c-85e2-0725b2fc2833"
      },
      "outputs": [
        {
          "output_type": "execute_result",
          "data": {
            "text/plain": [
              "0"
            ]
          },
          "metadata": {},
          "execution_count": 33
        }
      ],
      "source": [
        "data.Severity_of_Problem.isnull().sum()"
      ]
    },
    {
      "cell_type": "code",
      "execution_count": 34,
      "metadata": {
        "colab": {
          "base_uri": "https://localhost:8080/"
        },
        "id": "j_RXyoYJOrBB",
        "outputId": "c162cdb1-fc9d-40b2-b6db-13306b89495c"
      },
      "outputs": [
        {
          "output_type": "execute_result",
          "data": {
            "text/plain": [
              "count    149.000000\n",
              "mean       5.389262\n",
              "std        1.239613\n",
              "min        3.000000\n",
              "25%        5.000000\n",
              "50%        5.000000\n",
              "75%        6.000000\n",
              "max        9.000000\n",
              "Name: Severity_of_Problem, dtype: float64"
            ]
          },
          "metadata": {},
          "execution_count": 34
        }
      ],
      "source": [
        "data.Severity_of_Problem.describe()"
      ]
    },
    {
      "cell_type": "markdown",
      "source": [
        "**Warrantable/Non Warrantable**"
      ],
      "metadata": {
        "id": "VFsnLJaGy98h"
      }
    },
    {
      "cell_type": "code",
      "source": [
        "data=data.rename(columns = {'Warrantable/Non Warrantable':'Warrantable_Non_Warrantable'})"
      ],
      "metadata": {
        "id": "fcaCO7YEzN57"
      },
      "execution_count": 51,
      "outputs": []
    },
    {
      "cell_type": "code",
      "execution_count": null,
      "metadata": {
        "id": "WcNsb6GqzHOT"
      },
      "outputs": [],
      "source": [
        "data.Warrantable_Non_Warrantable.values[0]"
      ]
    },
    {
      "cell_type": "code",
      "execution_count": null,
      "metadata": {
        "colab": {
          "base_uri": "https://localhost:8080/"
        },
        "outputId": "0e925914-4c45-4939-d6a1-a2596bcd18d3",
        "id": "moanVLz6zHOT"
      },
      "outputs": [
        {
          "output_type": "execute_result",
          "data": {
            "text/plain": [
              "array(['Regular'], dtype=object)"
            ]
          },
          "metadata": {},
          "execution_count": 27
        }
      ],
      "source": [
        "data.Warrantable_Non_Warrantable.unique()"
      ]
    },
    {
      "cell_type": "code",
      "execution_count": null,
      "metadata": {
        "id": "dSI-f3gczHOT"
      },
      "outputs": [],
      "source": [
        "data.Warrantable_Non_Warrantable.isnull().sum()"
      ]
    },
    {
      "cell_type": "code",
      "execution_count": null,
      "metadata": {
        "colab": {
          "base_uri": "https://localhost:8080/"
        },
        "outputId": "4f81cba0-c4cf-455e-d019-c70239523090",
        "id": "NJDmVxBJzHOT"
      },
      "outputs": [
        {
          "output_type": "execute_result",
          "data": {
            "text/plain": [
              "Regular    149\n",
              "Name: Projecttype, dtype: int64"
            ]
          },
          "metadata": {},
          "execution_count": 29
        }
      ],
      "source": [
        "data.Warrantable_Non_Warrantable.value_counts()"
      ]
    },
    {
      "cell_type": "markdown",
      "source": [
        "**Type of ORC**"
      ],
      "metadata": {
        "id": "mN3g3g1j3xlt"
      }
    },
    {
      "cell_type": "code",
      "source": [
        "data=data.rename(columns = {'Type of ORC':'Type_of_ORC'})"
      ],
      "metadata": {
        "id": "xq7zIMnnzA2v"
      },
      "execution_count": 53,
      "outputs": []
    },
    {
      "cell_type": "code",
      "source": [
        "data.Type_of_ORC.values[0]"
      ],
      "metadata": {
        "colab": {
          "base_uri": "https://localhost:8080/",
          "height": 36
        },
        "id": "EM2G6tuqzAzU",
        "outputId": "85fa8392-c139-42ed-f413-7ffed51cab89"
      },
      "execution_count": 55,
      "outputs": [
        {
          "output_type": "execute_result",
          "data": {
            "text/plain": [
              "'Track'"
            ],
            "application/vnd.google.colaboratory.intrinsic+json": {
              "type": "string"
            }
          },
          "metadata": {},
          "execution_count": 55
        }
      ]
    },
    {
      "cell_type": "code",
      "source": [
        "data.Type_of_ORC.unique()"
      ],
      "metadata": {
        "colab": {
          "base_uri": "https://localhost:8080/"
        },
        "id": "mrbmnFyBzAw5",
        "outputId": "4618a6d5-2831-46e7-c321-615247e20dae"
      },
      "execution_count": 54,
      "outputs": [
        {
          "output_type": "execute_result",
          "data": {
            "text/plain": [
              "array(['Track', 'Build', 'Field', 'Tear-Down', 'LAB'], dtype=object)"
            ]
          },
          "metadata": {},
          "execution_count": 54
        }
      ]
    }
  ]
}